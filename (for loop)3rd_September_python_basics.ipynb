{
 "cells": [
  {
   "cell_type": "code",
   "execution_count": null,
   "id": "9c9bcd70-8475-4bfb-a116-828e1613dacd",
   "metadata": {},
   "outputs": [],
   "source": [
    "# FOR LOOP SOLUTION\n",
    "\n",
    "\n",
    "\n",
    "#Write a Python program to print the numbers from 1 to 10 using a `for` loop.\n",
    "\n",
    "for i in range(11):\n",
    " print(i)\n",
    "\n",
    "\n"
   ]
  },
  {
   "cell_type": "code",
   "execution_count": null,
   "id": "97c52860-9897-42a0-9813-97c4ef9bec7f",
   "metadata": {},
   "outputs": [],
   "source": [
    "#2. Create a program that calculates the sum of all numbers in a list using a `for` loop.\n",
    "\n",
    "numbers=[1,2,3,4,5,6,7,8]\n",
    "sum_of_numbers=0\n",
    "for number in numbers:\n",
    "    sum_of_numbers += number\n",
    "    \n",
    "print(\"the sum_of_numbers in the list is:\",sum_of_numbers)\n",
    "\n",
    "\n",
    "\n",
    "\n"
   ]
  },
  {
   "cell_type": "code",
   "execution_count": null,
   "id": "b3e4235f-ebec-4269-a84d-d6a76ba1eac0",
   "metadata": {},
   "outputs": [],
   "source": [
    "#3.Write a program to print the characters of a string in reverse order using a `for` loop.\n",
    "\n",
    "str=\"suvadip\"\n",
    "rev_str=\"\"\n",
    "for charecter in rev_str:\n",
    "\n",
    "    print(charecter,end=\"\\n\")\n",
    "    rev_str +=charecter\n",
    "#print(\"\\nstring in reverse order:\",rev_str)\n",
    "\n",
    "\n",
    "\n",
    "\n"
   ]
  },
  {
   "cell_type": "code",
   "execution_count": null,
   "id": "396c51d6-b068-4cd5-977d-ab04b0d4e580",
   "metadata": {},
   "outputs": [],
   "source": [
    "#4. Develop a program that finds the factorial of a given number using a `for` loop.\n",
    "\n",
    "# Input: Get the number for which you want to find the factorial\n",
    "num = int(input(\"Enter a positive integer: \"))\n",
    "\n",
    "# Initialize a variable to store the factorial (start with 1 for multiplication)\n",
    "factorial = 1\n",
    "\n",
    "for i in range(1, num + 1):\n",
    "    factorial *= i\n",
    "\n",
    "# Print the result\n",
    "print(f\"The factorial of {num} is {factorial}\")\n"
   ]
  },
  {
   "cell_type": "code",
   "execution_count": null,
   "id": "7918eac5-ab33-4775-850a-e1203a4c0967",
   "metadata": {},
   "outputs": [],
   "source": [
    "#5.Create a program to print the multiplication table of a given number using a `for` loop.\n",
    "\n",
    "num = int(input(\"Enter a number to print its multiplication table: \"))\n",
    "\n",
    "# Set the range for the multiplication table \n",
    "start = 1\n",
    "end = 5\n",
    "\n",
    "# Use a for loop to calculate and print the multiplication table\n",
    "print(f\"Multiplication table for {num}:\")\n",
    "\n",
    "for i in range(start, end+1 ):\n",
    "    result = num * i\n",
    "    print(f\"{num} x {i} = {result}\")\n",
    "\n",
    "\n",
    "\n",
    "\n",
    "\n"
   ]
  },
  {
   "cell_type": "code",
   "execution_count": null,
   "id": "9674e146-31c5-49e2-ab31-37b9d387fe60",
   "metadata": {},
   "outputs": [],
   "source": [
    "#6.Write a program that counts the number of even and odd numbers in a list using a `for` loop.\n",
    "\n",
    "a=[1,3,4,5,6,9,8,7]\n",
    "even_numbers=0\n",
    "odd_numbers=0\n",
    "\n",
    "\n",
    "# Use a for loop to iterate through the list and count even and odd numbers\n",
    "for even_num in a:\n",
    "    if even_num%2==0:\n",
    "     even_numbers += 1\n",
    "\n",
    "    else:\n",
    "        odd_numbers+=1\n",
    "        \n",
    "print(\"total numbers of even number is:\",even_numbers)     \n",
    "print(\"total numbers of odd number is:\",odd_numbers)"
   ]
  },
  {
   "cell_type": "code",
   "execution_count": null,
   "id": "7ec4f926-a06b-46f7-b182-b9bb914a6bc1",
   "metadata": {},
   "outputs": [],
   "source": [
    "#7.Develop a program that prints the squares of numbers from 1 to 5 using a `for` loop.\n",
    "\n",
    "# Initialize a variable to store the square of numbers\n",
    "squares = []\n",
    "\n",
    "# Use a for loop to calculate and print the squares of numbers from 1 to 5\n",
    "for i in range(1, 6):\n",
    "    square = i**2\n",
    "    squares.append(square)\n",
    "\n",
    "\n",
    "print(\"Squares of numbers from 1 to 5:\", squares)\n"
   ]
  },
  {
   "cell_type": "code",
   "execution_count": null,
   "id": "fd7b83d7-1e67-4658-b477-b90fd46a6beb",
   "metadata": {},
   "outputs": [],
   "source": [
    "#8.Create a program to find the length of a string without using the `len()` function.\n",
    "\n",
    "# Input: Get the string for which you want to find the length\n",
    "string=\"hi suvadip\"\n",
    "\n",
    "# Initialize a variable to count the characters\n",
    "length = 0\n",
    "\n",
    "# Use a for loop to iterate through the characters of the string\n",
    "for character in input_string:\n",
    "    length += 1\n",
    "\n",
    "\n",
    "print(f\"The length of the string is: {length}\")\n"
   ]
  },
  {
   "cell_type": "code",
   "execution_count": 7,
   "id": "ff1ee379-0397-4a9a-ac10-4e5c44759770",
   "metadata": {},
   "outputs": [
    {
     "name": "stdout",
     "output_type": "stream",
     "text": [
      "average of a list  21.6\n"
     ]
    }
   ],
   "source": [
    "#9.Write a program that calculates the average of a list of numbers using a `for` loop.\n",
    "\n",
    "a=[4,5,9,7,83]\n",
    "\n",
    "total_numbers=0\n",
    "\n",
    "\n",
    "\n",
    "for numbers in a:\n",
    "  total_numbers +=numbers\n",
    "avg_of_list=total_numbers/len(a)\n",
    "\n",
    "print(\"average of a list \",avg_of_list)\n",
    "\n",
    "\n",
    "\n",
    "\n",
    "\n",
    "\n",
    "\n",
    "\n"
   ]
  },
  {
   "cell_type": "code",
   "execution_count": 15,
   "id": "f993b606-1afc-4e11-bdc5-543046f68561",
   "metadata": {},
   "outputs": [
    {
     "name": "stdin",
     "output_type": "stream",
     "text": [
      "Enter the number of Fibonacci numbers to print:  15\n"
     ]
    },
    {
     "name": "stdout",
     "output_type": "stream",
     "text": [
      "0 1 1 2 3 5 8 13 21 34 55 89 144 233 377 \n"
     ]
    }
   ],
   "source": [
    "#10.Develop a program that prints the first `n` Fibonacci numbers using a `for` \n",
    "\n",
    "n = int(input(\"Enter the number of Fibonacci numbers to print: \"))\n",
    "\n",
    "a, b = 0, 1  # Initialize the first two Fibonacci numbers\n",
    "\n",
    "for _ in range(n):\n",
    "    print(a, end=\" \")  # Print the current Fibonacci number\n",
    "    a, b = b, a + b   # Calculate the next Fibonacci number\n",
    "\n",
    "print()  \n",
    "\n",
    "\n",
    "\n",
    "\n"
   ]
  },
  {
   "cell_type": "code",
   "execution_count": 1,
   "id": "088fba91-9fe8-4b0a-a627-79c658961214",
   "metadata": {},
   "outputs": [
    {
     "name": "stdout",
     "output_type": "stream",
     "text": [
      "The list contains duplicates.\n"
     ]
    }
   ],
   "source": [
    "#11.Write a program to check if a given list contains any duplicates using a `for` loop.\n",
    "\n",
    "def has_duplicates(input_list):\n",
    "    n = len(input_list)\n",
    "    for i in range(n):\n",
    "        for j in range(i + 1, n):\n",
    "            if input_list[i] == input_list[j]:\n",
    "                return True\n",
    "    return False\n",
    "\n",
    "# Example usage:\n",
    "my_list = [1, 2, 3, 4, 2, 5]\n",
    "duplicate_check = has_duplicates(my_list)\n",
    "\n",
    "if duplicate_check:\n",
    "    print(\"The list contains duplicates.\")\n",
    "else:\n",
    "    print(\"The list does not contain duplicates.\")\n",
    "\n",
    "\n",
    "\n",
    "\n"
   ]
  },
  {
   "cell_type": "code",
   "execution_count": 2,
   "id": "e80b0266-642f-4b5f-941f-430499480511",
   "metadata": {},
   "outputs": [
    {
     "name": "stdin",
     "output_type": "stream",
     "text": [
      "Enter the start of the range:  4\n",
      "Enter the end of the range:  6\n"
     ]
    },
    {
     "name": "stdout",
     "output_type": "stream",
     "text": [
      "Prime numbers between 4 and 6 are:\n",
      "5 "
     ]
    }
   ],
   "source": [
    "#12.Create a program that prints the prime numbers in a given range using a `for` loop.\n",
    "\n",
    "start_range = int(input(\"Enter the start of the range: \"))\n",
    "end_range = int(input(\"Enter the end of the range: \"))\n",
    "\n",
    "print(f\"Prime numbers between {start_range} and {end_range} are:\")\n",
    "\n",
    "for number in range(start_range, end_range + 1):\n",
    "    if number > 1:\n",
    "        is_prime = True\n",
    "        for i in range(2, int(number ** 0.5) + 1):\n",
    "            if number % i == 0:\n",
    "                is_prime = False\n",
    "                break\n",
    "        if is_prime:\n",
    "            print(number, end=\" \")\n",
    "\n",
    "\n",
    "\n",
    "\n",
    "\n"
   ]
  },
  {
   "cell_type": "code",
   "execution_count": 3,
   "id": "09acff6e-3bd8-4b8b-9cb0-8a6bd0e31112",
   "metadata": {},
   "outputs": [
    {
     "name": "stdin",
     "output_type": "stream",
     "text": [
      "Enter a string:  hello baccho\n"
     ]
    },
    {
     "name": "stdout",
     "output_type": "stream",
     "text": [
      "The number of vowels in the string is: 4\n"
     ]
    }
   ],
   "source": [
    "#13.Develop a program that counts the number of vowels in a string using a `for` loop.\n",
    "\n",
    "\n",
    "def count_vowels(input_string):\n",
    "    vowels = \"AEIOUaeiou\"  # Define a string containing all vowels\n",
    "    vowel_count = 0\n",
    "\n",
    "    for char in input_string:\n",
    "        if char in vowels:\n",
    "            vowel_count += 1\n",
    "\n",
    "    return vowel_count\n",
    "\n",
    "# Input a string from the user\n",
    "input_string = input(\"Enter a string: \")\n",
    "\n",
    "result = count_vowels(input_string)\n",
    "print(f\"The number of vowels in the string is: {result}\")\n",
    "\n",
    "\n",
    "\n",
    "\n",
    "\n"
   ]
  },
  {
   "cell_type": "code",
   "execution_count": 4,
   "id": "d01833e2-faa0-4ccd-8748-f9e92997dfdf",
   "metadata": {},
   "outputs": [
    {
     "name": "stdout",
     "output_type": "stream",
     "text": [
      "The maximum element in the 2D list is: 9\n"
     ]
    }
   ],
   "source": [
    "#14.Write a program to find the maximum element in a 2D list using a nested `for` loop.\n",
    "\n",
    "\n",
    "def find_max_2d(arr):\n",
    "    if not arr:\n",
    "        return None  # Return None for an empty list\n",
    "    \n",
    "    max_element = arr[0][0]  # Initialize max_element with the first element\n",
    "    \n",
    "    for row in arr:\n",
    "        for element in row:\n",
    "            if element > max_element:\n",
    "                max_element = element\n",
    "    \n",
    "    return max_element\n",
    "\n",
    "# Example usage:\n",
    "matrix = [\n",
    "    [1, 5, 9],\n",
    "    [3, 7, 2],\n",
    "    [8, 4, 6]\n",
    "]\n",
    "\n",
    "max_value = find_max_2d(matrix)\n",
    "if max_value is not None:\n",
    "    print(f\"The maximum element in the 2D list is: {max_value}\")\n",
    "else:\n",
    "    print(\"The list is empty.\")\n",
    "\n",
    "\n",
    "\n",
    "\n",
    "\n"
   ]
  },
  {
   "cell_type": "code",
   "execution_count": 5,
   "id": "fbaea967-4b83-4169-bf47-f3a292f1dd6b",
   "metadata": {},
   "outputs": [
    {
     "name": "stdout",
     "output_type": "stream",
     "text": [
      "Original list: [1, 2, 3, 4, 2, 5]\n",
      "List after removing 2: [1, 3, 4, 5]\n"
     ]
    }
   ],
   "source": [
    "#15.Create a program that removes all occurrences of a specific element from a list using a `for` loop.\n",
    "\n",
    "def remove_element(input_list, element_to_remove):\n",
    "    new_list = []\n",
    "\n",
    "    for item in input_list:\n",
    "        if item != element_to_remove:\n",
    "            new_list.append(item)\n",
    "\n",
    "    return new_list\n",
    "\n",
    "# Example usage:\n",
    "my_list = [1, 2, 3, 4, 2, 5]\n",
    "element_to_remove = 2\n",
    "\n",
    "new_list = remove_element(my_list, element_to_remove)\n",
    "\n",
    "print(f\"Original list: {my_list}\")\n",
    "print(f\"List after removing {element_to_remove}: {new_list}\")\n",
    "\n",
    "\n",
    "\n",
    "\n",
    "\n",
    "\n"
   ]
  },
  {
   "cell_type": "code",
   "execution_count": 6,
   "id": "abdddd39-b591-43b0-9cff-200d11e8d9ec",
   "metadata": {},
   "outputs": [
    {
     "name": "stdout",
     "output_type": "stream",
     "text": [
      "Multiplication table for 1:\n",
      "1 x 1 = 1\n",
      "1 x 2 = 2\n",
      "1 x 3 = 3\n",
      "1 x 4 = 4\n",
      "1 x 5 = 5\n",
      "1 x 6 = 6\n",
      "1 x 7 = 7\n",
      "1 x 8 = 8\n",
      "1 x 9 = 9\n",
      "1 x 10 = 10\n",
      "\n",
      "Multiplication table for 2:\n",
      "2 x 1 = 2\n",
      "2 x 2 = 4\n",
      "2 x 3 = 6\n",
      "2 x 4 = 8\n",
      "2 x 5 = 10\n",
      "2 x 6 = 12\n",
      "2 x 7 = 14\n",
      "2 x 8 = 16\n",
      "2 x 9 = 18\n",
      "2 x 10 = 20\n",
      "\n",
      "Multiplication table for 3:\n",
      "3 x 1 = 3\n",
      "3 x 2 = 6\n",
      "3 x 3 = 9\n",
      "3 x 4 = 12\n",
      "3 x 5 = 15\n",
      "3 x 6 = 18\n",
      "3 x 7 = 21\n",
      "3 x 8 = 24\n",
      "3 x 9 = 27\n",
      "3 x 10 = 30\n",
      "\n",
      "Multiplication table for 4:\n",
      "4 x 1 = 4\n",
      "4 x 2 = 8\n",
      "4 x 3 = 12\n",
      "4 x 4 = 16\n",
      "4 x 5 = 20\n",
      "4 x 6 = 24\n",
      "4 x 7 = 28\n",
      "4 x 8 = 32\n",
      "4 x 9 = 36\n",
      "4 x 10 = 40\n",
      "\n",
      "Multiplication table for 5:\n",
      "5 x 1 = 5\n",
      "5 x 2 = 10\n",
      "5 x 3 = 15\n",
      "5 x 4 = 20\n",
      "5 x 5 = 25\n",
      "5 x 6 = 30\n",
      "5 x 7 = 35\n",
      "5 x 8 = 40\n",
      "5 x 9 = 45\n",
      "5 x 10 = 50\n",
      "\n"
     ]
    }
   ],
   "source": [
    "#16.Develop a program that generates a multiplication table for numbers from 1 to 5 using a nested `for` loop.\n",
    "\n",
    "for i in range(1, 6):\n",
    "    print(f\"Multiplication table for {i}:\")\n",
    "\n",
    "    for j in range(1, 11):\n",
    "        result = i * j\n",
    "        print(f\"{i} x {j} = {result}\")\n",
    "\n",
    "    print()  \n",
    "\n",
    "\n",
    "\n",
    "\n",
    "\n"
   ]
  },
  {
   "cell_type": "code",
   "execution_count": 8,
   "id": "07904fe0-7a77-4a24-9bd0-ee86a78c236c",
   "metadata": {},
   "outputs": [
    {
     "name": "stdout",
     "output_type": "stream",
     "text": [
      "Fahrenheit Temperatures: [32, 68, 95, 104, 212]\n",
      "Celsius Temperatures: [0.0, 20.0, 35.0, 40.0, 100.0]\n"
     ]
    }
   ],
   "source": [
    "#17. Write a program that converts a list of Fahrenheit temperatures to Celsius using a `for` loop.\n",
    "\n",
    "# Create a list of Fahrenheit temperatures\n",
    "fahrenheit_temperatures = [32, 68, 95, 104, 212]\n",
    "\n",
    "# Initialize an empty list to store the Celsius temperatures\n",
    "celsius_temperatures = []\n",
    "\n",
    "# Convert each Fahrenheit temperature to Celsius using a for loop\n",
    "for fahrenheit in fahrenheit_temperatures:\n",
    "    celsius = (fahrenheit - 32) * 5/9\n",
    "    celsius_temperatures.append(celsius)\n",
    "\n",
    "# Print the converted Celsius temperatures\n",
    "print(\"Fahrenheit Temperatures:\", fahrenheit_temperatures)\n",
    "print(\"Celsius Temperatures:\", celsius_temperatures)\n"
   ]
  },
  {
   "cell_type": "code",
   "execution_count": 9,
   "id": "6d98cf12-0863-49bf-a48c-037c698e0ca8",
   "metadata": {},
   "outputs": [
    {
     "name": "stdout",
     "output_type": "stream",
     "text": [
      "Common elements: [86, 65]\n"
     ]
    }
   ],
   "source": [
    "#18.\n",
    "list1=[1,4,9,25,86,68,35,56,65]\n",
    "list2=[2,5,65,98,86,79,89,23]\n",
    "\n",
    "# Initialize an empty list to store common elements\n",
    "common_elements = []\n",
    "\n",
    "# Use a for loop to find and add common elements to the common_elements list\n",
    "for item1 in list1:\n",
    "    for item2 in list2:\n",
    "        if item1 == item2:\n",
    "            common_elements.append(item1)\n",
    "\n",
    "# Print the common elements\n",
    "print(\"Common elements:\", common_elements)\n"
   ]
  },
  {
   "cell_type": "code",
   "execution_count": 11,
   "id": "ca14f433-4c59-4d30-b181-2c5f28f9102f",
   "metadata": {},
   "outputs": [
    {
     "name": "stdout",
     "output_type": "stream",
     "text": [
      "Right-Angled Triangle:\n",
      "*\n",
      "**\n",
      "***\n",
      "****\n",
      "*****\n"
     ]
    }
   ],
   "source": [
    "#19.Develop a program that prints the pattern of right-angled triangles using a `for` loop. Use ‘*’ to draw the pattern\n",
    "\n",
    "\n",
    "# Define the number of rows for the triangle\n",
    "num_rows = 5\n",
    "\n",
    "# Right-angled Triangle\n",
    "print(\"Right-Angled Triangle:\")\n",
    "for i in range(1, num_rows + 1):\n",
    "    print('*' * i)\n",
    "\n",
    "\n",
    "\n"
   ]
  },
  {
   "cell_type": "code",
   "execution_count": 14,
   "id": "b790f4f3-6e5e-49b3-8170-4cc6b17810ad",
   "metadata": {},
   "outputs": [
    {
     "name": "stdin",
     "output_type": "stream",
     "text": [
      "Enter the first number:  10\n",
      "Enter the second number:  100\n"
     ]
    },
    {
     "name": "stdout",
     "output_type": "stream",
     "text": [
      "The GCD of 10 and 100 is: 10\n"
     ]
    }
   ],
   "source": [
    "#20.Write a program to find the greatest common divisor (GCD) of two numbers using a `for` loop.\n",
    "\n",
    "def find_gcd(num1, num2):\n",
    "    for i in range(min(num1, num2), 0, -1):\n",
    "        if num1 % i == 0 and num2 % i == 0:\n",
    "            return i\n",
    "\n",
    "num1 = int(input(\"Enter the first number: \"))\n",
    "num2 = int(input(\"Enter the second number: \"))\n",
    "\n",
    "result = find_gcd(num1, num2)\n",
    "print(f\"The GCD of {num1} and {num2} is: {result}\")\n",
    "\n"
   ]
  },
  {
   "cell_type": "code",
   "execution_count": null,
   "id": "1b14bd1f-4a63-40fb-b29e-b7256132d710",
   "metadata": {},
   "outputs": [],
   "source": []
  }
 ],
 "metadata": {
  "kernelspec": {
   "display_name": "Python 3 (ipykernel)",
   "language": "python",
   "name": "python3"
  },
  "language_info": {
   "codemirror_mode": {
    "name": "ipython",
    "version": 3
   },
   "file_extension": ".py",
   "mimetype": "text/x-python",
   "name": "python",
   "nbconvert_exporter": "python",
   "pygments_lexer": "ipython3",
   "version": "3.10.8"
  }
 },
 "nbformat": 4,
 "nbformat_minor": 5
}
